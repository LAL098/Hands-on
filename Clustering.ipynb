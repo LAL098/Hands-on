{
 "cells": [
  {
   "cell_type": "markdown",
   "metadata": {},
   "source": [
    "## Data analysis and Clustering using K-means."
   ]
  },
  {
   "cell_type": "code",
   "execution_count": 6,
   "metadata": {},
   "outputs": [],
   "source": [
    "## Import Resources\n",
    "import findspark\n",
    "findspark.init()\n",
    "\n",
    "import pyspark\n",
    "from pyspark.sql import SparkSession\n",
    "from pyspark.sql.functions import *\n",
    "from pyspark.ml.clustering import  KMeans\n",
    "from pyspark.ml.evaluation import ClusteringEvaluator"
   ]
  },
  {
   "cell_type": "code",
   "execution_count": 46,
   "metadata": {},
   "outputs": [],
   "source": [
    "spark = SparkSession.builder.master('local[12]').appName('PysparkML').getOrCreate()\n",
    "\n",
    "spark.conf.set('spark.sql.debug.maxToStringFields', 100)"
   ]
  },
  {
   "cell_type": "markdown",
   "metadata": {},
   "source": [
    "We are goint to use the [Chicago Crime Dataset](https://www.kaggle.com/datasets/nathaniellybrand/chicago-crime-dataset-2001-present) that has been taken from kaggle. We have reduce the dataset because it's too big, we drop columns with useless information for this analysis. "
   ]
  },
  {
   "cell_type": "code",
   "execution_count": 109,
   "metadata": {},
   "outputs": [],
   "source": [
    "## Read dataset\n",
    "df= spark.read.format('csv').load('/home/jesus/Documents/Hands-on/DataSets/Crimes2001_present', header=True)"
   ]
  },
  {
   "cell_type": "code",
   "execution_count": 110,
   "metadata": {},
   "outputs": [
    {
     "name": "stdout",
     "output_type": "stream",
     "text": [
      "+--------------------+--------------------+--------------------+--------------------+------+--------+\n",
      "|                Date|        Primary Type|         Description|Location Description|Arrest|Domestic|\n",
      "+--------------------+--------------------+--------------------+--------------------+------+--------+\n",
      "|09/01/2018 12:01:...|               THEFT|           OVER $500|           RESIDENCE| false|    true|\n",
      "|05/01/2016 12:25:...|  DECEPTIVE PRACTICE|FINANCIAL IDENTIT...|                null| false|   false|\n",
      "|07/31/2018 01:30:...|           NARCOTICS| POSS: HEROIN(WHITE)|              STREET|  true|   false|\n",
      "|12/19/2018 04:30:...|     CRIMINAL DAMAGE|          TO VEHICLE|              STREET| false|   false|\n",
      "|02/02/2015 10:00:...|  DECEPTIVE PRACTICE|FINANCIAL IDENTIT...|               OTHER| false|   false|\n",
      "|01/01/2001 11:00:...|  DECEPTIVE PRACTICE|FINANCIAL IDENTIT...|           RESIDENCE| false|   false|\n",
      "|09/03/2015 06:00:...|     CRIMINAL DAMAGE|         TO PROPERTY|           RESIDENCE| false|   false|\n",
      "|12/04/2017 12:00:...|       OTHER OFFENSE|SEX OFFENDER: FAI...|GOVERNMENT BUILDI...|  true|   false|\n",
      "|01/01/2018 08:00:...|  DECEPTIVE PRACTICE|FINANCIAL IDENTIT...|           RESIDENCE| false|   false|\n",
      "|12/20/2018 04:00:...|       OTHER OFFENSE|    TELEPHONE THREAT|           RESIDENCE| false|   false|\n",
      "|04/01/2018 12:01:...|  DECEPTIVE PRACTICE|FINANCIAL IDENTIT...|           RESIDENCE| false|   false|\n",
      "|09/05/2015 10:42:...|PUBLIC PEACE VIOL...|    RECKLESS CONDUCT|              STREET|  true|   false|\n",
      "|02/04/2018 03:25:...|  DECEPTIVE PRACTICE|FINANCIAL IDENTIT...|                null| false|   false|\n",
      "|11/17/2017 09:45:...|           NARCOTICS|POSS: CANNABIS MO...|POLICE FACILITY/V...|  true|   false|\n",
      "|06/01/2014 12:01:...|  DECEPTIVE PRACTICE|FINANCIAL IDENTIT...|           RESIDENCE| false|   false|\n",
      "|09/06/2015 01:10:...|             BATTERY| AGGRAVATED: HANDGUN|     VACANT LOT/LAND| false|   false|\n",
      "|12/20/2018 03:00:...|  DECEPTIVE PRACTICE|FINANCIAL IDENTIT...|           APARTMENT| false|   false|\n",
      "|09/06/2015 02:00:...|             BATTERY|AGGRAVATED:KNIFE/...|            SIDEWALK| false|   false|\n",
      "|05/05/2012 12:25:...|  DECEPTIVE PRACTICE|FINANCIAL IDENTIT...|                null| false|   false|\n",
      "|10/08/2017 03:00:...| CRIM SEXUAL ASSAULT|      NON-AGGRAVATED|           RESIDENCE| false|   false|\n",
      "+--------------------+--------------------+--------------------+--------------------+------+--------+\n",
      "only showing top 20 rows\n",
      "\n",
      "The number of rows is 7846809\n",
      "---------------------------------------------\n",
      "The number of columns is 6\n"
     ]
    },
    {
     "name": "stderr",
     "output_type": "stream",
     "text": [
      "                                                                                \r"
     ]
    }
   ],
   "source": [
    "## Lets explorate our dataset \n",
    "# Lets see how many columns and rows has\n",
    "df.show()\n",
    "print('The number of rows is ' + str(df.count()))\n",
    "print('---------------------------------------------')\n",
    "print('The number of columns is ' + str(len(df.columns)))"
   ]
  },
  {
   "cell_type": "code",
   "execution_count": 111,
   "metadata": {},
   "outputs": [
    {
     "name": "stderr",
     "output_type": "stream",
     "text": [
      "[Stage 72:================================================>       (12 + 2) / 14]\r"
     ]
    },
    {
     "name": "stdout",
     "output_type": "stream",
     "text": [
      "+-----------------+------------------------------+------------------------------+-----+\n",
      "|Primary Type     |Location Description          |Description                   |count|\n",
      "+-----------------+------------------------------+------------------------------+-----+\n",
      "|WEAPONS VIOLATION|STREET                        |UNLAWFUL POSS OF HANDGUN      |17791|\n",
      "|WEAPONS VIOLATION|STREET                        |UNLAWFUL POSSESSION - HANDGUN |11209|\n",
      "|WEAPONS VIOLATION|SIDEWALK                      |UNLAWFUL POSS OF HANDGUN      |9913 |\n",
      "|WEAPONS VIOLATION|RESIDENCE                     |UNLAWFUL POSS OF HANDGUN      |5742 |\n",
      "|WEAPONS VIOLATION|STREET                        |RECKLESS FIREARM DISCHARGE    |5176 |\n",
      "|WEAPONS VIOLATION|SCHOOL, PUBLIC, BUILDING      |UNLAWFUL USE OTHER DANG WEAPON|3769 |\n",
      "|WEAPONS VIOLATION|ALLEY                         |UNLAWFUL POSS OF HANDGUN      |3486 |\n",
      "|WEAPONS VIOLATION|APARTMENT                     |UNLAWFUL POSS OF HANDGUN      |3323 |\n",
      "|WEAPONS VIOLATION|SIDEWALK                      |UNLAWFUL POSSESSION - HANDGUN |2290 |\n",
      "|WEAPONS VIOLATION|ALLEY                         |RECKLESS FIREARM DISCHARGE    |2258 |\n",
      "|WEAPONS VIOLATION|VEHICLE NON-COMMERCIAL        |UNLAWFUL POSS OF HANDGUN      |2006 |\n",
      "|WEAPONS VIOLATION|STREET                        |UNLAWFUL USE HANDGUN          |1680 |\n",
      "|WEAPONS VIOLATION|RESIDENTIAL YARD (FRONT/BACK) |UNLAWFUL POSS OF HANDGUN      |1593 |\n",
      "|WEAPONS VIOLATION|STREET                        |UNLAWFUL USE OTHER DANG WEAPON|1571 |\n",
      "|WEAPONS VIOLATION|SIDEWALK                      |UNLAWFUL USE OTHER DANG WEAPON|1529 |\n",
      "|WEAPONS VIOLATION|RESIDENCE PORCH/HALLWAY       |UNLAWFUL POSS OF HANDGUN      |1346 |\n",
      "|WEAPONS VIOLATION|SIDEWALK                      |RECKLESS FIREARM DISCHARGE    |1313 |\n",
      "|WEAPONS VIOLATION|OTHER                         |UNLAWFUL POSS OF HANDGUN      |1164 |\n",
      "|WEAPONS VIOLATION|PARKING LOT/GARAGE(NON.RESID.)|UNLAWFUL POSS OF HANDGUN      |994  |\n",
      "|WEAPONS VIOLATION|ALLEY                         |UNLAWFUL POSSESSION - HANDGUN |981  |\n",
      "+-----------------+------------------------------+------------------------------+-----+\n",
      "only showing top 20 rows\n",
      "\n"
     ]
    },
    {
     "name": "stderr",
     "output_type": "stream",
     "text": [
      "                                                                                \r"
     ]
    }
   ],
   "source": [
    "#Let's see the most commun type of crimes\n",
    "df.groupBy('Primary Type','Location Description', 'Description').count().orderBy(['Primary Type', 'count'], ascending=False).show(truncate=False)"
   ]
  },
  {
   "cell_type": "code",
   "execution_count": null,
   "metadata": {},
   "outputs": [],
   "source": []
  }
 ],
 "metadata": {
  "kernelspec": {
   "display_name": "Python 3",
   "language": "python",
   "name": "python3"
  },
  "language_info": {
   "codemirror_mode": {
    "name": "ipython",
    "version": 3
   },
   "file_extension": ".py",
   "mimetype": "text/x-python",
   "name": "python",
   "nbconvert_exporter": "python",
   "pygments_lexer": "ipython3",
   "version": "3.10.9"
  },
  "orig_nbformat": 4
 },
 "nbformat": 4,
 "nbformat_minor": 2
}
